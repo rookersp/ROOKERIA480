{
 "cells": [
  {
   "cell_type": "code",
   "execution_count": 1,
   "id": "19f36ea4-e383-4073-a265-7b50000c0229",
   "metadata": {
    "tags": []
   },
   "outputs": [
    {
     "name": "stdout",
     "output_type": "stream",
     "text": [
      "hello world\n"
     ]
    }
   ],
   "source": [
    "print ('hello world')"
   ]
  },
  {
   "cell_type": "markdown",
   "id": "e6cff5b5-f8e6-47a6-809e-ea1b5a726847",
   "metadata": {
    "tags": []
   },
   "source": [
    "# my first code "
   ]
  },
  {
   "cell_type": "code",
   "execution_count": null,
   "id": "6fadfca3-1a65-4ed2-bed7-d51e9bc1bfc4",
   "metadata": {},
   "outputs": [],
   "source": []
  }
 ],
 "metadata": {
  "kernelspec": {
   "display_name": "conda_python3",
   "language": "python",
   "name": "conda_python3"
  },
  "language_info": {
   "codemirror_mode": {
    "name": "ipython",
    "version": 3
   },
   "file_extension": ".py",
   "mimetype": "text/x-python",
   "name": "python",
   "nbconvert_exporter": "python",
   "pygments_lexer": "ipython3",
   "version": "3.10.14"
  }
 },
 "nbformat": 4,
 "nbformat_minor": 5
}
